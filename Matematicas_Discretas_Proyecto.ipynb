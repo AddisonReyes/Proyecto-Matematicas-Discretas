{
  "nbformat": 4,
  "nbformat_minor": 0,
  "metadata": {
    "colab": {
      "name": "Matematicas Discretas Proyecto.ipynb",
      "provenance": [],
      "collapsed_sections": [],
      "authorship_tag": "ABX9TyNPNx1bCb2OcVjpAgCtGByd",
      "include_colab_link": true
    },
    "kernelspec": {
      "name": "python3",
      "display_name": "Python 3"
    },
    "language_info": {
      "name": "python"
    }
  },
  "cells": [
    {
      "cell_type": "markdown",
      "metadata": {
        "id": "view-in-github",
        "colab_type": "text"
      },
      "source": [
        "<a href=\"https://colab.research.google.com/github/aaminrc/Proyecto-Matematicas-Discretas/blob/main/Matematicas_Discretas_Proyecto.ipynb\" target=\"_parent\"><img src=\"https://colab.research.google.com/assets/colab-badge.svg\" alt=\"Open In Colab\"/></a>"
      ]
    },
    {
      "cell_type": "markdown",
      "source": [
        "***\n",
        "#**Tema #5: Grafos y grupos abelianos**\n",
        "\n",
        "***Hecho por: Addison Reyes, 2021-2026***\n",
        "\n",
        "#**Los detalles de su proyecto serán los siguientes:**\n",
        "\n",
        "*A un sistema se le introduce un conjunto de números enteros positivos en grupos de 6, 9, 11 y 12.*\n",
        "\n",
        "*Si la cantidad de números introducidos es de 6 o de 12 se considerarán los nodos o vértices de un grafo que se generará conectando (colocando aristas) entre los pares de nodos que sean divisibles por 2 o por tres; si se genera un grafo inconexo, se conectarán un par de nodos que eliminen esa condición aunque no cumplan con ser divisibles por 2 o por tres.*\n",
        "\n",
        "*Si se introducen 9 o 11, se le solicitará al usuario un conjunto de 5 elementos enteros adicionales para determinar si conforman un grupo abeliano.*\n",
        "***\n",
        "*Nota: para probar el programa correr todos los bloques de codigo en orden de arriba para abajo, el ultimo bloque de codigo es el que inicia el programa.*"
      ],
      "metadata": {
        "id": "c2V6NaB--ymb"
      }
    },
    {
      "cell_type": "code",
      "source": [
        "!pip install -q pydot"
      ],
      "metadata": {
        "id": "YCLp2zK-9gkw"
      },
      "execution_count": 1,
      "outputs": []
    },
    {
      "cell_type": "code",
      "source": [
        "!pip install -q graphviz"
      ],
      "metadata": {
        "id": "oGBcqkWdIkRy"
      },
      "execution_count": null,
      "outputs": []
    },
    {
      "cell_type": "code",
      "source": [
        "!apt-get update"
      ],
      "metadata": {
        "colab": {
          "base_uri": "https://localhost:8080/"
        },
        "id": "zrji3QwxLQ7o",
        "outputId": "6bf20915-0d1e-4027-a8ae-c3d9225eef36"
      },
      "execution_count": null,
      "outputs": [
        {
          "output_type": "stream",
          "name": "stdout",
          "text": [
            "\r0% [Working]\r            \rHit:1 http://archive.ubuntu.com/ubuntu bionic InRelease\n",
            "\r0% [Waiting for headers] [Connecting to security.ubuntu.com (185.125.190.39)] [\r                                                                               \rHit:2 https://cloud.r-project.org/bin/linux/ubuntu bionic-cran40/ InRelease\n",
            "\r0% [Waiting for headers] [Connecting to security.ubuntu.com (185.125.190.39)] [\r0% [1 InRelease gpgv 242 kB] [Waiting for headers] [Connecting to security.ubun\r                                                                               \rHit:3 http://archive.ubuntu.com/ubuntu bionic-updates InRelease\n",
            "\r0% [1 InRelease gpgv 242 kB] [Waiting for headers] [Connecting to security.ubun\r                                                                               \rHit:4 http://archive.ubuntu.com/ubuntu bionic-backports InRelease\n",
            "\r0% [1 InRelease gpgv 242 kB] [Connecting to security.ubuntu.com (185.125.190.39\r                                                                               \rHit:5 http://ppa.launchpad.net/c2d4u.team/c2d4u4.0+/ubuntu bionic InRelease\n",
            "\r0% [1 InRelease gpgv 242 kB] [Waiting for headers] [Waiting for headers] [Conne\r                                                                               \rHit:6 http://security.ubuntu.com/ubuntu bionic-security InRelease\n",
            "\r0% [1 InRelease gpgv 242 kB] [Waiting for headers] [Connecting to ppa.launchpad\r                                                                               \rIgn:7 https://developer.download.nvidia.com/compute/machine-learning/repos/ubuntu1804/x86_64  InRelease\n",
            "\r0% [1 InRelease gpgv 242 kB] [Waiting for headers] [Connecting to ppa.launchpad\r                                                                               \rHit:8 https://developer.download.nvidia.com/compute/cuda/repos/ubuntu1804/x86_64  InRelease\n",
            "Hit:9 https://developer.download.nvidia.com/compute/machine-learning/repos/ubuntu1804/x86_64  Release\n",
            "Hit:10 http://ppa.launchpad.net/cran/libgit2/ubuntu bionic InRelease\n",
            "Hit:11 http://ppa.launchpad.net/deadsnakes/ppa/ubuntu bionic InRelease\n",
            "Hit:12 http://ppa.launchpad.net/graphics-drivers/ppa/ubuntu bionic InRelease\n",
            "Reading package lists... Done\n"
          ]
        }
      ]
    },
    {
      "cell_type": "code",
      "source": [
        "!apt install -q libgraphviz-dev"
      ],
      "metadata": {
        "colab": {
          "base_uri": "https://localhost:8080/"
        },
        "id": "o6XiO_MCCdf_",
        "outputId": "139b9997-eff2-421c-fbaa-983bf9ce8cc6"
      },
      "execution_count": null,
      "outputs": [
        {
          "output_type": "stream",
          "name": "stdout",
          "text": [
            "Reading package lists...\n",
            "Building dependency tree...\n",
            "Reading state information...\n",
            "libgraphviz-dev is already the newest version (2.40.1-2).\n",
            "The following package was automatically installed and is no longer required:\n",
            "  libnvidia-common-460\n",
            "Use 'apt autoremove' to remove it.\n",
            "0 upgraded, 0 newly installed, 0 to remove and 25 not upgraded.\n"
          ]
        }
      ]
    },
    {
      "cell_type": "code",
      "source": [
        "!pip install -q pygraphviz"
      ],
      "metadata": {
        "id": "uekH3Iw9Cf72"
      },
      "execution_count": null,
      "outputs": []
    },
    {
      "cell_type": "code",
      "source": [
        "import networkx as nx\n",
        "import graphviz"
      ],
      "metadata": {
        "id": "FRCoyWgU5eqw"
      },
      "execution_count": null,
      "outputs": []
    },
    {
      "cell_type": "code",
      "source": [
        "def error(grupos):\n",
        "    aux = 3\n",
        "    while grupos != 6 or grupos != 9 or grupos != 11 or grupos != 12:\n",
        "        print(\"ERROR: El valor que quieres digitar no esta dentro de los numeros(6, 9, 11 o 12)..\")\n",
        "        grupos = int(input(\"Intento \" + str(aux) + \" digita el grupo que deseas escoger: \"))\n",
        "\n",
        "        if grupos == 6 or grupos == 9 or grupos == 11 or grupos == 12:\n",
        "            return grupos\n",
        "        else:\n",
        "            aux -= 1\n",
        "\n",
        "        if aux == 0:\n",
        "            print(\"\\nERROR: No digitaste un valor entero positivo.\")\n",
        "            return 0\n",
        "            break"
      ],
      "metadata": {
        "id": "Fupqj7gxunwE"
      },
      "execution_count": null,
      "outputs": []
    },
    {
      "cell_type": "code",
      "source": [
        "def programa(grupos):\n",
        "    #Entrada de los nodos\n",
        "    numero_ent = [0, 0, 0, 0, 0, 0, 0, 0, 0, 0, 0, 0]\n",
        "    numero_ad = [0, 0, 0, 0, 0]\n",
        "    aux2 = 0\n",
        "    i = 0\n",
        "\n",
        "    if grupos == 6 or grupos == 12:\n",
        "      while i != grupos:\n",
        "        numero_ent[i] = int(input(\"Digita el valor #\" + str(i + 1) + \": \"))\n",
        "        i += 1\n",
        "    else:\n",
        "      while i != grupos:\n",
        "        numero_ent[i] = float(input(\"Digita el valor #\" + str(i + 1) + \": \"))\n",
        "        i += 1\n",
        "\n",
        "    aux = 0\n",
        "    i = 0\n",
        "    if grupos == 9 or grupos == 11:\n",
        "        while aux != 5:\n",
        "            numero_ad[i] = float(input(\"Digita el valor adicional #\" + str(aux + 1) + \": \"))\n",
        "            aux += 1\n",
        "            i += 1\n",
        "\n",
        "    #Impresion de todos los nodos introducidos por consola\n",
        "    i = 0\n",
        "    aux = \"Los valores que digitaste son [ \"\n",
        "    print(\"\\n\")\n",
        "    while i != grupos:\n",
        "      aux2 = numero_ent[i]\n",
        "      aux += str(aux2) + \" \"\n",
        "      i += 1\n",
        "      \n",
        "    aux += \"]\"\n",
        "    print(aux)\n",
        "\n",
        "    if grupos == 9 or grupos == 11:\n",
        "        i = 0\n",
        "        aux = \"Los valores adicionales que digitaste son [ \"\n",
        "        while i != 5:\n",
        "          aux2 = numero_ad[i]\n",
        "          aux += str(aux2) + \" \"\n",
        "          i += 1\n",
        "      \n",
        "        aux += \"]\"\n",
        "        print(aux)\n",
        "\n",
        "    #Generacion del grafo conectando (colocando aristas) entre los pares de nodos que sean divisibles por 2 o por tres\n",
        "    G = nx.Graph()\n",
        "    aux = 0\n",
        "    aux2 = 0\n",
        "    aux_par_anterior = 0\n",
        "    aux_impar_anterior = 0\n",
        "    j = 1\n",
        "\n",
        "    #Generacion para los grupos 6 y 12\n",
        "    if grupos == 6 or grupos == 12:\n",
        "      while j != grupos:\n",
        "        G.add_node(numero_ent[j])\n",
        "\n",
        "        if numero_ent[j]%2 == 0:\n",
        "          if aux != numero_ent[j]:\n",
        "            G.add_edge(str(aux), str(numero_ent[j]))\n",
        "            if aux_par_anterior != aux:\n",
        "              G.add_edge(str(aux), str(aux_par_anterior))\n",
        "\n",
        "            aux_par_anterior = aux\n",
        "          aux = numero_ent[j]\n",
        "\n",
        "        if numero_ent[j]%2 != 0:\n",
        "          if aux2 != numero_ent[j]:\n",
        "            G.add_edge(str(aux2), str(numero_ent[j]))\n",
        "            if aux_impar_anterior != aux2:\n",
        "              G.add_edge(str(aux2), str(aux_impar_anterior))\n",
        "\n",
        "            aux_impar_anterior = aux2\n",
        "          aux2 = numero_ent[j]\n",
        "        \n",
        "        if j == grupos - 1:\n",
        "          G.add_edge(str(aux2), str(aux))\n",
        "\n",
        "        j += 1\n",
        "\n",
        "    if grupos == 6 or grupos == 12:\n",
        "      print(\"\\nLos nodos de tu grafo son \" + str(G.nodes))\n",
        "      print(\"y las aristas son \" + str(G.edges))\n",
        "      A = nx.nx_agraph.to_agraph(G)\n",
        "      A.layout('dot')\n",
        "      A.draw('grafo.png') #El grafo se guarda como un como png\n",
        "      graphviz.Source(A.to_string())\n",
        "\n",
        "      print(\"\\n\\nPara ver tu grafo tienes que abrir la imagen \\\"grafo.png\\\" dentro de los archivos.\")\n",
        "    \n",
        "\n",
        "    #Generacion para los grupos 9 y 11\n",
        "    i = 0\n",
        "    a = 0\n",
        "    b = 0\n",
        "\n",
        "    if grupos == 9 or grupos == 11:\n",
        "      while i != grupos:\n",
        "        a += numero_ent[i]\n",
        "        i += 1\n",
        "\n",
        "      while j <= 4:\n",
        "        b += numero_ad[j]\n",
        "        j += 1\n",
        "\n",
        "      sum = a + b\n",
        "      sum2 = int(sum)\n",
        "      if sum - sum2 == 0:\n",
        "        var1 = a + (b + 15)\n",
        "        var2 = (a + b) + 15\n",
        "        if var1 == var2:\n",
        "          e = 0\n",
        "          if sum + e == sum:\n",
        "            if sum - sum == 0:\n",
        "              if a + b == b + a:\n",
        "                print(\"\\nLos valores que digitaste conforman un grupo abeliano.\")\n",
        "\n",
        "              else:\n",
        "                print(\"\\nLos valores que digitaste no conforman un grupo abeliano.\")\n",
        "            else:\n",
        "              print(\"\\nLos valores que digitaste no conforman un grupo abeliano.\")\n",
        "          else:\n",
        "            print(\"\\nLos valores que digitaste no conforman un grupo abeliano.\")\n",
        "        else:\n",
        "          print(\"\\nLos valores que digitaste no conforman un grupo abeliano.\")\n",
        "      else:\n",
        "        print(\"\\nLos valores que digitaste no conforman un grupo abeliano.\")\n",
        "\n"
      ],
      "metadata": {
        "id": "1XuChFIRuluy"
      },
      "execution_count": null,
      "outputs": []
    },
    {
      "cell_type": "code",
      "source": [
        "def main():\n",
        "    print(\"Bienvenido al proyecto fianl de Matematicas Discretas\")\n",
        "    grupos = int(input(\"\\nDigita en que grupos digitaras los numeros(6, 9, 11 o 12): \"))\n",
        "\n",
        "    print(\"\\n\")\n",
        "    if grupos == 6 or grupos == 9 or grupos == 11 or grupos == 12:\n",
        "        programa(grupos)\n",
        "    else:\n",
        "        grupos = error(grupos)\n",
        "        if grupos == 6 or grupos == 9 or grupos == 11 or grupos == 12:\n",
        "            print(\"\\n\")\n",
        "            programa(grupos)"
      ],
      "metadata": {
        "id": "HYSekS9rujMe"
      },
      "execution_count": null,
      "outputs": []
    },
    {
      "cell_type": "code",
      "source": [
        "if __name__ == '__main__':\n",
        "    main()"
      ],
      "metadata": {
        "colab": {
          "base_uri": "https://localhost:8080/"
        },
        "id": "lYdVY0HouhYE",
        "outputId": "0947b518-0546-4b7d-a394-13de35414dd8"
      },
      "execution_count": null,
      "outputs": [
        {
          "output_type": "stream",
          "name": "stdout",
          "text": [
            "Bienvenido al proyecto fianl de Matematicas Discretas\n",
            "\n",
            "Digita en que grupos digitaras los numeros(6, 9, 11 o 12): 12\n",
            "\n",
            "\n",
            "Digita el valor #1: 0\n",
            "Digita el valor #2: 10\n",
            "Digita el valor #3: 20\n",
            "Digita el valor #4: 30\n",
            "Digita el valor #5: 11\n",
            "Digita el valor #6: 10\n",
            "Digita el valor #7: 30\n",
            "Digita el valor #8: 22\n",
            "Digita el valor #9: 5\n",
            "Digita el valor #10: 9\n",
            "Digita el valor #11: 2\n",
            "Digita el valor #12: 0\n",
            "\n",
            "\n",
            "Los valores que digitaste son [ 0 10 20 30 11 10 30 22 5 9 2 0 ]\n",
            "\n",
            "Los nodos de tu grafo son [10, '0', '10', 20, '20', 30, '30', 11, '11', 22, '22', 5, '5', 9, '9', 2, '2', 0]\n",
            "y las aristas son [('0', '10'), ('0', '11'), ('0', '2'), ('0', '9'), ('10', '20'), ('10', '30'), ('20', '30'), ('30', '22'), ('11', '5'), ('22', '2'), ('5', '9')]\n",
            "\n",
            "\n",
            "Para ver tu grafo tienes que abrir la imagen \"grafo.png\" dentro de los archivos.\n"
          ]
        }
      ]
    }
  ]
}